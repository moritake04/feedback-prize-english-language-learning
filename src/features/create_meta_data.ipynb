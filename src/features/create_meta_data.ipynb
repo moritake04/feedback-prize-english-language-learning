{
 "cells": [
  {
   "cell_type": "code",
   "execution_count": 2,
   "metadata": {},
   "outputs": [],
   "source": [
    "import pandas as pd\n",
    "import numpy as np\n",
    "#from spellchecker import SpellChecker\n",
    "import re\n",
    "import string\n",
    "from nltk.corpus import stopwords\n",
    "from tqdm import tqdm"
   ]
  },
  {
   "cell_type": "code",
   "execution_count": 3,
   "metadata": {},
   "outputs": [],
   "source": [
    "def contraction_count(sent):\n",
    "    count = 0\n",
    "    count += re.subn(r\"won\\'t\", \"\", sent)[1]\n",
    "    count += re.subn(r\"can\\'t\", \"\", sent)[1]\n",
    "    count += re.subn(r\"\\'re\", \"\", sent)[1]\n",
    "    count += re.subn(r\"\\'s\", \"\", sent)[1]\n",
    "    count += re.subn(r\"\\'d\", \"\", sent)[1]\n",
    "    count += re.subn(r\"\\'ll\", \"\", sent)[1]\n",
    "    count += re.subn(r\"\\'t\", \"\", sent)[1]\n",
    "    count += re.subn(r\"\\'ve\", \"\", sent)[1]\n",
    "    count += re.subn(r\"\\'m\", \"\", sent)[1]\n",
    "    return count\n",
    "\n",
    "def text_features(df, col):\n",
    "    df[f\"{col}_num_words\"] = df[col].apply(\n",
    "        lambda x: len(str(x).split())\n",
    "    )  # num_words count\n",
    "\n",
    "    df[f\"{col}_num_unique_words\"] = df[col].apply(\n",
    "        lambda x: len(set(str(x).split()))\n",
    "    )  # num_unique_words count\n",
    "\n",
    "    df[f\"{col}_num_chars\"] = df[col].apply(lambda x: len(str(x)))  # num_chars count\n",
    "\n",
    "    df[f\"{col}_num_stopwords\"] = df[col].apply(\n",
    "        lambda x: len(\n",
    "            [w for w in str(x).lower().split() if w in stopwords.words(\"english\")]\n",
    "        )\n",
    "    )  # stopword count 冠詞\n",
    "\n",
    "    df[f\"{col}_num_punctuations\"] = df[col].apply(\n",
    "        lambda x: len([c for c in str(x) if c in list(string.punctuation)])\n",
    "    )  # num_punctuations count 句読点\n",
    "\n",
    "    df[f\"{col}_num_words_upper\"] = df[col].apply(\n",
    "        lambda x: len([w for w in str(x) if w.isupper()])\n",
    "    )  # num_words_upper count 大文字\n",
    "\n",
    "    df[f\"{col}_mean_word_len\"] = df[col].apply(\n",
    "        lambda x: np.mean([len(w) for w in x.split()])\n",
    "    )  # mean_word_len\n",
    "\n",
    "    df[f\"{col}_num_paragraphs\"] = df[col].apply(\n",
    "        lambda x: len(list(filter(None, re.split(\"\\n\\n|\\r\\n|\\r|\\n\", x))))\n",
    "    )  # num_paragraphs count\n",
    "\n",
    "    df[f\"{col}_num_contractions\"] = df[col].apply(\n",
    "        contraction_count\n",
    "    )  # num_contractions count\n",
    "\n",
    "    return df\n",
    "\n",
    "\n",
    "def check_spell(df, col):\n",
    "    spell = SpellChecker()\n",
    "    df[\"misspelled\"] = 0\n",
    "    for idx, text in enumerate(tqdm(df[col])):\n",
    "        text = re.split(\n",
    "            '[\\n\\n|\\r\\n|\\r|\\n| |!|#|$|%|&|(|)|*|+|,|-|.|/|:|;|<|=|>|?|@|\\|^|_|`|{|}|~|\"|\\||\\[|\\]]',\n",
    "            text,\n",
    "        )\n",
    "        misspelled = spell.unknown(text)\n",
    "        if \"\" in misspelled:\n",
    "            misspelled.remove(\"\")\n",
    "        df.loc[idx, \"misspelled\"] = len(misspelled)\n",
    "\n",
    "    return df"
   ]
  },
  {
   "cell_type": "code",
   "execution_count": 4,
   "metadata": {},
   "outputs": [],
   "source": [
    "# read csv\n",
    "train = pd.read_csv(\"../../data/input/train.csv\")"
   ]
  },
  {
   "cell_type": "code",
   "execution_count": null,
   "metadata": {},
   "outputs": [],
   "source": [
    "train = text_features(train, \"full_text\")\n",
    "train = check_spell(train, \"full_text\")"
   ]
  },
  {
   "cell_type": "code",
   "execution_count": 11,
   "metadata": {},
   "outputs": [],
   "source": [
    "train_X.to_csv(f\"../../data/input/train_with_meta.csv\", index=False)"
   ]
  },
  {
   "cell_type": "code",
   "execution_count": null,
   "metadata": {},
   "outputs": [],
   "source": []
  }
 ],
 "metadata": {
  "kernelspec": {
   "display_name": "Python 3.9.12 ('kaggle')",
   "language": "python",
   "name": "python3"
  },
  "language_info": {
   "codemirror_mode": {
    "name": "ipython",
    "version": 3
   },
   "file_extension": ".py",
   "mimetype": "text/x-python",
   "name": "python",
   "nbconvert_exporter": "python",
   "pygments_lexer": "ipython3",
   "version": "3.9.12"
  },
  "orig_nbformat": 4,
  "vscode": {
   "interpreter": {
    "hash": "74b6f18d100cf4b6c08500594d0a08edb957b3f25d68b0d65c6705777eaf731f"
   }
  }
 },
 "nbformat": 4,
 "nbformat_minor": 2
}
